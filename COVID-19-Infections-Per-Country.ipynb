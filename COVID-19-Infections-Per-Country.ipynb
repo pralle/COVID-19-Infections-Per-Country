{
 "cells": [
  {
   "cell_type": "code",
   "execution_count": null,
   "metadata": {},
   "outputs": [],
   "source": [
    "# COVID-19 infections per country\n",
    "# Copyright 2020 Denis Meyer\n",
    "#\n",
    "# Data source:\n",
    "# 2019 Novel Coronavirus COVID-19 (2019-nCoV) Data Repository by Johns Hopkins CSSE\n",
    "# * https://github.com/CSSEGISandData/COVID-19\n",
    "#\n",
    "# Plot options\n",
    "# * All countries\n",
    "# * Countries with highest number of infections\n",
    "# * Countries with highest number of deaths\n",
    "# * Specific countries (infections)\n",
    "# * Specific countries (deaths)\n",
    "# * Curve fit (infections) for a specific country with predictions\n",
    "# * Curve fit (deaths) for a specific country with predictions\n",
    "# * Multi curve fit (infections) for a specific country\n",
    "# * Multi curve fit (deaths) for a specific country\n",
    "# * Curve fit (infections) for multiple countries with predictions\n",
    "# * Curve fit (deaths) for multiple countries with predictions"
   ]
  },
  {
   "cell_type": "code",
   "execution_count": null,
   "metadata": {},
   "outputs": [],
   "source": [
    "import logging\n",
    "import os\n",
    "import datetime\n",
    "\n",
    "import seaborn as sns\n",
    "\n",
    "from src.Settings import SETTINGS\n",
    "from src.PlotSettings import PLOT_SETTINGS\n",
    "\n",
    "from src.Functions import Functions\n",
    "\n",
    "from src.plots.AllCountries import PlotAllCountries\n",
    "from src.plots.SpecificCountries import PlotSpecificCountries\n",
    "from src.plots.HighestCountries import PlotHighestCountries\n",
    "from src.plots.CurveFitSpecificCountry import PlotCurveFitSpecificCountry\n",
    "from src.plots.MultiCurveFitSpecificCountry import PlotMultiCurveFitSpecificCountry\n",
    "from src.plots.CurveFitMultiCountries import PlotCurveFitMultiCountries"
   ]
  },
  {
   "cell_type": "code",
   "execution_count": null,
   "metadata": {},
   "outputs": [],
   "source": [
    "functions = Functions()\n",
    "functions.initialize_logger(SETTINGS['logging']['loglevel'], SETTINGS['logging']['format'], SETTINGS['logging']['date_format'])\n",
    "\n",
    "# Set color palette\n",
    "sns.set(palette='muted')\n",
    "\n",
    "# Set current working directoy\n",
    "csv_dir = os.path.join(os.getcwd(), SETTINGS['csv_subdir_name'])\n",
    "\n",
    "# Set current date\n",
    "current_date_str = datetime.date.today().strftime('%Y-%m-%d')"
   ]
  },
  {
   "cell_type": "code",
   "execution_count": null,
   "metadata": {},
   "outputs": [],
   "source": [
    "# Load 'confirmed' data\n",
    "df = functions.get_data(csv_dir, SETTINGS['csv_infections_subdir_name'], SETTINGS['csv_infections_filename'].format(current_date_str), SETTINGS['datasource']['infections'], force_refresh_data=SETTINGS['force_refresh_data'])\n",
    "# Drop unnecessary columns\n",
    "df = df.drop(['Province/State', 'Lat', 'Long'], axis=1)"
   ]
  },
  {
   "cell_type": "code",
   "execution_count": null,
   "metadata": {},
   "outputs": [],
   "source": [
    "# Load 'deaths' data\n",
    "df_deaths = functions.get_data(csv_dir, SETTINGS['csv_deaths_subdir_name'], SETTINGS['csv_deaths_filename'].format(current_date_str), SETTINGS['datasource']['deaths'], force_refresh_data=SETTINGS['force_refresh_data'])\n",
    "# Drop unnecessary columns\n",
    "df_deaths = df_deaths.drop(['Province/State', 'Lat', 'Long'], axis=1)"
   ]
  },
  {
   "cell_type": "code",
   "execution_count": null,
   "metadata": {},
   "outputs": [],
   "source": [
    "# Infections: Group by Country/Region, sum the values and reset the index\n",
    "df_grouped_summed = df.groupby('Country/Region').sum().reset_index()\n",
    "dates = list(df_grouped_summed.columns.values)[1:]\n",
    "date_first = datetime.datetime.strptime(dates[0], '%m/%d/%y')\n",
    "date_last = datetime.datetime.strptime(dates[-1], '%m/%d/%y')\n",
    "logging.info('Working with \"confirmed\" data from {} to {}'.format(date_first.date(), date_last.date()))"
   ]
  },
  {
   "cell_type": "code",
   "execution_count": null,
   "metadata": {},
   "outputs": [],
   "source": [
    "# Deaths: Group by Country/Region, sum the values and reset the index\n",
    "df_deaths_grouped_summed = df_deaths.groupby('Country/Region').sum().reset_index()\n",
    "dates_deaths = list(df_deaths_grouped_summed.columns.values)[1:]\n",
    "date_first_deaths = datetime.datetime.strptime(dates_deaths[0], '%m/%d/%y')\n",
    "date_last_deaths = datetime.datetime.strptime(dates_deaths[-1], '%m/%d/%y')\n",
    "logging.info('Working with \"deaths\" data from {} to {}'.format(date_first_deaths.date(), date_last_deaths.date()))"
   ]
  },
  {
   "cell_type": "code",
   "execution_count": null,
   "metadata": {},
   "outputs": [],
   "source": [
    "# Generate a README with the current date\n",
    "if SETTINGS['generate_readme']:\n",
    "    logging.info('Generating README')\n",
    "    if functions.generate_readme(os.getcwd(), SETTINGS['readme_template'], SETTINGS['readme'], date_last.strftime('%Y-%m-%d')):\n",
    "        logging.info('Successfully generated README')\n",
    "    else:\n",
    "        logging.warning('Failed to generate README')"
   ]
  },
  {
   "cell_type": "code",
   "execution_count": null,
   "metadata": {},
   "outputs": [],
   "source": [
    "# Initialize all plots\n",
    "\n",
    "plot_all_countries = PlotAllCountries(functions, SETTINGS, PLOT_SETTINGS['all_countries'])\n",
    "plot_specific_countries = PlotSpecificCountries(functions, SETTINGS, PLOT_SETTINGS['specific_countries'])\n",
    "plot_highest_countries = PlotHighestCountries(functions, SETTINGS, PLOT_SETTINGS['highest_countries'])\n",
    "plot_curve_fit_specific_country = PlotCurveFitSpecificCountry(functions, SETTINGS, PLOT_SETTINGS['curve_fit_specific_country'])\n",
    "plot_multi_curve_fit_specific_country = PlotMultiCurveFitSpecificCountry(functions, SETTINGS, PLOT_SETTINGS['multi_curve_fit_specific_country'])\n",
    "plot_curve_fit_multi_countries = PlotCurveFitMultiCountries(functions, SETTINGS, PLOT_SETTINGS['curve_fit_multi_countries'])"
   ]
  },
  {
   "cell_type": "code",
   "execution_count": null,
   "metadata": {},
   "outputs": [],
   "source": [
    "# Plot: All countries\n",
    "plot_all_countries.plot(dates, df_grouped_summed, date_first, date_last)"
   ]
  },
  {
   "cell_type": "code",
   "execution_count": null,
   "metadata": {},
   "outputs": [],
   "source": [
    "# Plot: Specific countries - Infections\n",
    "plot_specific_countries.plot_infections(dates, df_grouped_summed, df_deaths_grouped_summed, date_first, date_last)"
   ]
  },
  {
   "cell_type": "code",
   "execution_count": null,
   "metadata": {},
   "outputs": [],
   "source": [
    "# Plot: Specific countries - Deaths\n",
    "plot_specific_countries.plot_deaths(dates, df_grouped_summed, df_deaths_grouped_summed, date_first, date_last)"
   ]
  },
  {
   "cell_type": "code",
   "execution_count": null,
   "metadata": {},
   "outputs": [],
   "source": [
    "# Plot: Countries with highest numbers - Infections\n",
    "plot_highest_countries.plot_infections(dates, df_grouped_summed, df_deaths_grouped_summed, date_first, date_last)"
   ]
  },
  {
   "cell_type": "code",
   "execution_count": null,
   "metadata": {},
   "outputs": [],
   "source": [
    "# Plot: Countries with highest numbers - Deaths\n",
    "plot_highest_countries.plot_deaths(dates, df_grouped_summed, df_deaths_grouped_summed, date_first, date_last)"
   ]
  },
  {
   "cell_type": "code",
   "execution_count": null,
   "metadata": {},
   "outputs": [],
   "source": [
    "# Plot: Curve fit specific country - Infections\n",
    "plot_curve_fit_specific_country.plot_infections(dates, df_grouped_summed, df_deaths_grouped_summed, date_first, date_last)"
   ]
  },
  {
   "cell_type": "code",
   "execution_count": null,
   "metadata": {},
   "outputs": [],
   "source": [
    "# Plot: Countries with highest numbers - Deaths\n",
    "plot_curve_fit_specific_country.plot_deaths(dates, df_grouped_summed, df_deaths_grouped_summed, date_first, date_last)"
   ]
  },
  {
   "cell_type": "code",
   "execution_count": null,
   "metadata": {},
   "outputs": [],
   "source": [
    "# Plot: Curve fit specific country - Infections\n",
    "plot_multi_curve_fit_specific_country.plot_infections(dates, df_grouped_summed, df_deaths_grouped_summed, date_first, date_last)"
   ]
  },
  {
   "cell_type": "code",
   "execution_count": null,
   "metadata": {},
   "outputs": [],
   "source": [
    "# Plot: Countries with highest numbers - Deaths\n",
    "plot_multi_curve_fit_specific_country.plot_deaths(dates, df_grouped_summed, df_deaths_grouped_summed, date_first, date_last)"
   ]
  },
  {
   "cell_type": "code",
   "execution_count": null,
   "metadata": {},
   "outputs": [],
   "source": [
    "# Plot: Curve fit multiple countries - Infections\n",
    "plot_curve_fit_multi_countries.plot_infections(dates, df_grouped_summed, df_deaths_grouped_summed, date_first, date_last)"
   ]
  },
  {
   "cell_type": "code",
   "execution_count": null,
   "metadata": {},
   "outputs": [],
   "source": [
    "# Plot: Countries with highest numbers - Deaths\n",
    "plot_curve_fit_multi_countries.plot_deaths(dates, df_grouped_summed, df_deaths_grouped_summed, date_first, date_last)"
   ]
  }
 ],
 "metadata": {
  "kernelspec": {
   "display_name": "Python 3",
   "language": "python",
   "name": "python3"
  },
  "language_info": {
   "codemirror_mode": {
    "name": "ipython",
    "version": 3
   },
   "file_extension": ".py",
   "mimetype": "text/x-python",
   "name": "python",
   "nbconvert_exporter": "python",
   "pygments_lexer": "ipython3",
   "version": "3.8.2"
  }
 },
 "nbformat": 4,
 "nbformat_minor": 4
}
